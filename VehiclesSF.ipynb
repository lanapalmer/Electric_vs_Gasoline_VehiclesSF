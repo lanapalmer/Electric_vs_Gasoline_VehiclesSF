{
 "cells": [
  {
   "cell_type": "markdown",
   "metadata": {},
   "source": [
    "# Electric vs Gas Vehicles in San Francisco Neighborhoods."
   ]
  },
  {
   "cell_type": "markdown",
   "metadata": {},
   "source": [
    "## 1. Data Wrangle"
   ]
  },
  {
   "cell_type": "markdown",
   "metadata": {},
   "source": [
    "### A. Import California Vehicle CSV"
   ]
  },
  {
   "cell_type": "code",
   "execution_count": 145,
   "metadata": {},
   "outputs": [],
   "source": [
    "#Import Packages\n",
    "import pandas as pd\n",
    "import numpy as np\n",
    "import matplotlib.pyplot as plt\n",
    "import seaborn as sns\n",
    "\n",
    "pd.options.mode.chained_assignment = None  # default='warn'\n",
    "sns.set(style=\"whitegrid\", font_scale=2)"
   ]
  },
  {
   "cell_type": "code",
   "execution_count": 117,
   "metadata": {},
   "outputs": [
    {
     "name": "stderr",
     "output_type": "stream",
     "text": [
      "/Users/lanapalmer/opt/anaconda3/lib/python3.7/site-packages/IPython/core/interactiveshell.py:3147: DtypeWarning: Columns (2) have mixed types.Specify dtype option on import or set low_memory=False.\n",
      "  interactivity=interactivity, compiler=compiler, result=result)\n"
     ]
    }
   ],
   "source": [
    "df = pd.read_csv('vehicle-count-as-of-1-1-2020.csv')"
   ]
  },
  {
   "cell_type": "code",
   "execution_count": 118,
   "metadata": {},
   "outputs": [
    {
     "data": {
      "text/html": [
       "<div>\n",
       "<style scoped>\n",
       "    .dataframe tbody tr th:only-of-type {\n",
       "        vertical-align: middle;\n",
       "    }\n",
       "\n",
       "    .dataframe tbody tr th {\n",
       "        vertical-align: top;\n",
       "    }\n",
       "\n",
       "    .dataframe thead th {\n",
       "        text-align: right;\n",
       "    }\n",
       "</style>\n",
       "<table border=\"1\" class=\"dataframe\">\n",
       "  <thead>\n",
       "    <tr style=\"text-align: right;\">\n",
       "      <th></th>\n",
       "      <th>Date</th>\n",
       "      <th>Zip Code</th>\n",
       "      <th>Model Year</th>\n",
       "      <th>Fuel</th>\n",
       "      <th>Make</th>\n",
       "      <th>Duty</th>\n",
       "      <th>Vehicles</th>\n",
       "    </tr>\n",
       "  </thead>\n",
       "  <tbody>\n",
       "    <tr>\n",
       "      <th>0</th>\n",
       "      <td>1/1/2020</td>\n",
       "      <td>90001</td>\n",
       "      <td>2007</td>\n",
       "      <td>Gasoline</td>\n",
       "      <td>ACURA</td>\n",
       "      <td>Light</td>\n",
       "      <td>15</td>\n",
       "    </tr>\n",
       "    <tr>\n",
       "      <th>1</th>\n",
       "      <td>1/1/2020</td>\n",
       "      <td>90002</td>\n",
       "      <td>2007</td>\n",
       "      <td>Gasoline</td>\n",
       "      <td>ACURA</td>\n",
       "      <td>Light</td>\n",
       "      <td>20</td>\n",
       "    </tr>\n",
       "    <tr>\n",
       "      <th>2</th>\n",
       "      <td>1/1/2020</td>\n",
       "      <td>90003</td>\n",
       "      <td>2007</td>\n",
       "      <td>Gasoline</td>\n",
       "      <td>ACURA</td>\n",
       "      <td>Light</td>\n",
       "      <td>29</td>\n",
       "    </tr>\n",
       "    <tr>\n",
       "      <th>3</th>\n",
       "      <td>1/1/2020</td>\n",
       "      <td>90004</td>\n",
       "      <td>2007</td>\n",
       "      <td>Gasoline</td>\n",
       "      <td>ACURA</td>\n",
       "      <td>Light</td>\n",
       "      <td>19</td>\n",
       "    </tr>\n",
       "    <tr>\n",
       "      <th>4</th>\n",
       "      <td>1/1/2020</td>\n",
       "      <td>90006</td>\n",
       "      <td>2007</td>\n",
       "      <td>Gasoline</td>\n",
       "      <td>ACURA</td>\n",
       "      <td>Light</td>\n",
       "      <td>15</td>\n",
       "    </tr>\n",
       "  </tbody>\n",
       "</table>\n",
       "</div>"
      ],
      "text/plain": [
       "       Date Zip Code Model Year      Fuel   Make   Duty  Vehicles\n",
       "0  1/1/2020    90001       2007  Gasoline  ACURA  Light        15\n",
       "1  1/1/2020    90002       2007  Gasoline  ACURA  Light        20\n",
       "2  1/1/2020    90003       2007  Gasoline  ACURA  Light        29\n",
       "3  1/1/2020    90004       2007  Gasoline  ACURA  Light        19\n",
       "4  1/1/2020    90006       2007  Gasoline  ACURA  Light        15"
      ]
     },
     "execution_count": 118,
     "metadata": {},
     "output_type": "execute_result"
    }
   ],
   "source": [
    "#Visual Check\n",
    "df.head()"
   ]
  },
  {
   "cell_type": "code",
   "execution_count": 119,
   "metadata": {},
   "outputs": [
    {
     "data": {
      "text/html": [
       "<div>\n",
       "<style scoped>\n",
       "    .dataframe tbody tr th:only-of-type {\n",
       "        vertical-align: middle;\n",
       "    }\n",
       "\n",
       "    .dataframe tbody tr th {\n",
       "        vertical-align: top;\n",
       "    }\n",
       "\n",
       "    .dataframe thead th {\n",
       "        text-align: right;\n",
       "    }\n",
       "</style>\n",
       "<table border=\"1\" class=\"dataframe\">\n",
       "  <thead>\n",
       "    <tr style=\"text-align: right;\">\n",
       "      <th></th>\n",
       "      <th>Date</th>\n",
       "      <th>Zip Code</th>\n",
       "      <th>Model Year</th>\n",
       "      <th>Fuel</th>\n",
       "      <th>Make</th>\n",
       "      <th>Duty</th>\n",
       "      <th>Vehicles</th>\n",
       "    </tr>\n",
       "  </thead>\n",
       "  <tbody>\n",
       "    <tr>\n",
       "      <th>602389</th>\n",
       "      <td>1/1/2020</td>\n",
       "      <td>OOS</td>\n",
       "      <td>Unk</td>\n",
       "      <td>Gasoline</td>\n",
       "      <td>Unk</td>\n",
       "      <td>Heavy</td>\n",
       "      <td>98</td>\n",
       "    </tr>\n",
       "    <tr>\n",
       "      <th>602390</th>\n",
       "      <td>1/1/2020</td>\n",
       "      <td>90012</td>\n",
       "      <td>Unk</td>\n",
       "      <td>Gasoline</td>\n",
       "      <td>Unk</td>\n",
       "      <td>Light</td>\n",
       "      <td>12</td>\n",
       "    </tr>\n",
       "    <tr>\n",
       "      <th>602391</th>\n",
       "      <td>1/1/2020</td>\n",
       "      <td>93065</td>\n",
       "      <td>Unk</td>\n",
       "      <td>Gasoline</td>\n",
       "      <td>Unk</td>\n",
       "      <td>Light</td>\n",
       "      <td>11</td>\n",
       "    </tr>\n",
       "    <tr>\n",
       "      <th>602392</th>\n",
       "      <td>1/1/2020</td>\n",
       "      <td>95762</td>\n",
       "      <td>Unk</td>\n",
       "      <td>Gasoline</td>\n",
       "      <td>Unk</td>\n",
       "      <td>Light</td>\n",
       "      <td>12</td>\n",
       "    </tr>\n",
       "    <tr>\n",
       "      <th>602393</th>\n",
       "      <td>1/1/2020</td>\n",
       "      <td>OOS</td>\n",
       "      <td>Unk</td>\n",
       "      <td>Gasoline</td>\n",
       "      <td>Unk</td>\n",
       "      <td>Light</td>\n",
       "      <td>52</td>\n",
       "    </tr>\n",
       "  </tbody>\n",
       "</table>\n",
       "</div>"
      ],
      "text/plain": [
       "            Date Zip Code Model Year      Fuel Make   Duty  Vehicles\n",
       "602389  1/1/2020      OOS        Unk  Gasoline  Unk  Heavy        98\n",
       "602390  1/1/2020    90012        Unk  Gasoline  Unk  Light        12\n",
       "602391  1/1/2020    93065        Unk  Gasoline  Unk  Light        11\n",
       "602392  1/1/2020    95762        Unk  Gasoline  Unk  Light        12\n",
       "602393  1/1/2020      OOS        Unk  Gasoline  Unk  Light        52"
      ]
     },
     "execution_count": 119,
     "metadata": {},
     "output_type": "execute_result"
    }
   ],
   "source": [
    "#Visual Check\n",
    "df.tail()"
   ]
  },
  {
   "cell_type": "code",
   "execution_count": 120,
   "metadata": {},
   "outputs": [
    {
     "data": {
      "text/plain": [
       "Date          object\n",
       "Zip Code      object\n",
       "Model Year    object\n",
       "Fuel          object\n",
       "Make          object\n",
       "Duty          object\n",
       "Vehicles       int64\n",
       "dtype: object"
      ]
     },
     "execution_count": 120,
     "metadata": {},
     "output_type": "execute_result"
    }
   ],
   "source": [
    "df.dtypes"
   ]
  },
  {
   "cell_type": "code",
   "execution_count": 121,
   "metadata": {},
   "outputs": [],
   "source": [
    "df['Zip Code'] = df['Zip Code'].astype(str)"
   ]
  },
  {
   "cell_type": "code",
   "execution_count": 122,
   "metadata": {},
   "outputs": [
    {
     "data": {
      "text/plain": [
       "Date          object\n",
       "Zip Code      object\n",
       "Model Year    object\n",
       "Fuel          object\n",
       "Make          object\n",
       "Duty          object\n",
       "Vehicles       int64\n",
       "dtype: object"
      ]
     },
     "execution_count": 122,
     "metadata": {},
     "output_type": "execute_result"
    }
   ],
   "source": [
    "df.dtypes"
   ]
  },
  {
   "cell_type": "code",
   "execution_count": 123,
   "metadata": {},
   "outputs": [
    {
     "data": {
      "text/plain": [
       "Date          0\n",
       "Zip Code      0\n",
       "Model Year    0\n",
       "Fuel          0\n",
       "Make          0\n",
       "Duty          0\n",
       "Vehicles      0\n",
       "dtype: int64"
      ]
     },
     "execution_count": 123,
     "metadata": {},
     "output_type": "execute_result"
    }
   ],
   "source": [
    "df.isnull().sum()"
   ]
  },
  {
   "cell_type": "markdown",
   "metadata": {},
   "source": [
    "### B. Import SF Zip Codes CSV"
   ]
  },
  {
   "cell_type": "code",
   "execution_count": 124,
   "metadata": {},
   "outputs": [],
   "source": [
    "zips = pd.read_csv('zipcodesSF.csv')"
   ]
  },
  {
   "cell_type": "code",
   "execution_count": 125,
   "metadata": {},
   "outputs": [
    {
     "data": {
      "text/html": [
       "<div>\n",
       "<style scoped>\n",
       "    .dataframe tbody tr th:only-of-type {\n",
       "        vertical-align: middle;\n",
       "    }\n",
       "\n",
       "    .dataframe tbody tr th {\n",
       "        vertical-align: top;\n",
       "    }\n",
       "\n",
       "    .dataframe thead th {\n",
       "        text-align: right;\n",
       "    }\n",
       "</style>\n",
       "<table border=\"1\" class=\"dataframe\">\n",
       "  <thead>\n",
       "    <tr style=\"text-align: right;\">\n",
       "      <th></th>\n",
       "      <th>Zip Code</th>\n",
       "      <th>Neighborhood</th>\n",
       "      <th>Population (Census 2000)</th>\n",
       "    </tr>\n",
       "  </thead>\n",
       "  <tbody>\n",
       "    <tr>\n",
       "      <th>0</th>\n",
       "      <td>94102</td>\n",
       "      <td>Hayes Valley/Tenderloin/North of Market</td>\n",
       "      <td>28,991</td>\n",
       "    </tr>\n",
       "    <tr>\n",
       "      <th>1</th>\n",
       "      <td>94103</td>\n",
       "      <td>South of Market</td>\n",
       "      <td>23,016</td>\n",
       "    </tr>\n",
       "    <tr>\n",
       "      <th>2</th>\n",
       "      <td>94107</td>\n",
       "      <td>Potrero Hill</td>\n",
       "      <td>17,368</td>\n",
       "    </tr>\n",
       "    <tr>\n",
       "      <th>3</th>\n",
       "      <td>94108</td>\n",
       "      <td>Chinatown</td>\n",
       "      <td>13,716</td>\n",
       "    </tr>\n",
       "    <tr>\n",
       "      <th>4</th>\n",
       "      <td>94109</td>\n",
       "      <td>Polk/Russian Hill (Nob Hill)</td>\n",
       "      <td>56,322</td>\n",
       "    </tr>\n",
       "  </tbody>\n",
       "</table>\n",
       "</div>"
      ],
      "text/plain": [
       "   Zip Code                             Neighborhood Population (Census 2000)\n",
       "0     94102  Hayes Valley/Tenderloin/North of Market                   28,991\n",
       "1     94103                          South of Market                   23,016\n",
       "2     94107                             Potrero Hill                   17,368\n",
       "3     94108                                Chinatown                   13,716\n",
       "4     94109             Polk/Russian Hill (Nob Hill)                   56,322"
      ]
     },
     "execution_count": 125,
     "metadata": {},
     "output_type": "execute_result"
    }
   ],
   "source": [
    "zips.head()"
   ]
  },
  {
   "cell_type": "code",
   "execution_count": 126,
   "metadata": {},
   "outputs": [
    {
     "data": {
      "text/plain": [
       "Zip Code                     int64\n",
       "Neighborhood                object\n",
       "Population (Census 2000)    object\n",
       "dtype: object"
      ]
     },
     "execution_count": 126,
     "metadata": {},
     "output_type": "execute_result"
    }
   ],
   "source": [
    "zips.dtypes"
   ]
  },
  {
   "cell_type": "code",
   "execution_count": 127,
   "metadata": {},
   "outputs": [],
   "source": [
    "zips['Zip Code'] = zips['Zip Code'].astype(str)"
   ]
  },
  {
   "cell_type": "code",
   "execution_count": 128,
   "metadata": {},
   "outputs": [
    {
     "data": {
      "text/plain": [
       "Zip Code                    object\n",
       "Neighborhood                object\n",
       "Population (Census 2000)    object\n",
       "dtype: object"
      ]
     },
     "execution_count": 128,
     "metadata": {},
     "output_type": "execute_result"
    }
   ],
   "source": [
    "zips.dtypes"
   ]
  },
  {
   "cell_type": "markdown",
   "metadata": {},
   "source": [
    "### C. Create New Dataframe"
   ]
  },
  {
   "cell_type": "markdown",
   "metadata": {},
   "source": [
    "> Create a dataframe that only includes San Francisco zip codes."
   ]
  },
  {
   "cell_type": "code",
   "execution_count": 129,
   "metadata": {},
   "outputs": [],
   "source": [
    "df1 = df[df['Zip Code'].isin(ziplist)]"
   ]
  },
  {
   "cell_type": "code",
   "execution_count": 130,
   "metadata": {},
   "outputs": [
    {
     "data": {
      "text/html": [
       "<div>\n",
       "<style scoped>\n",
       "    .dataframe tbody tr th:only-of-type {\n",
       "        vertical-align: middle;\n",
       "    }\n",
       "\n",
       "    .dataframe tbody tr th {\n",
       "        vertical-align: top;\n",
       "    }\n",
       "\n",
       "    .dataframe thead th {\n",
       "        text-align: right;\n",
       "    }\n",
       "</style>\n",
       "<table border=\"1\" class=\"dataframe\">\n",
       "  <thead>\n",
       "    <tr style=\"text-align: right;\">\n",
       "      <th></th>\n",
       "      <th>Date</th>\n",
       "      <th>Zip Code</th>\n",
       "      <th>Model Year</th>\n",
       "      <th>Fuel</th>\n",
       "      <th>Make</th>\n",
       "      <th>Duty</th>\n",
       "      <th>Vehicles</th>\n",
       "    </tr>\n",
       "  </thead>\n",
       "  <tbody>\n",
       "    <tr>\n",
       "      <th>473</th>\n",
       "      <td>1/1/2020</td>\n",
       "      <td>94107</td>\n",
       "      <td>2007</td>\n",
       "      <td>Gasoline</td>\n",
       "      <td>ACURA</td>\n",
       "      <td>Light</td>\n",
       "      <td>16</td>\n",
       "    </tr>\n",
       "    <tr>\n",
       "      <th>474</th>\n",
       "      <td>1/1/2020</td>\n",
       "      <td>94109</td>\n",
       "      <td>2007</td>\n",
       "      <td>Gasoline</td>\n",
       "      <td>ACURA</td>\n",
       "      <td>Light</td>\n",
       "      <td>20</td>\n",
       "    </tr>\n",
       "    <tr>\n",
       "      <th>475</th>\n",
       "      <td>1/1/2020</td>\n",
       "      <td>94110</td>\n",
       "      <td>2007</td>\n",
       "      <td>Gasoline</td>\n",
       "      <td>ACURA</td>\n",
       "      <td>Light</td>\n",
       "      <td>29</td>\n",
       "    </tr>\n",
       "    <tr>\n",
       "      <th>476</th>\n",
       "      <td>1/1/2020</td>\n",
       "      <td>94112</td>\n",
       "      <td>2007</td>\n",
       "      <td>Gasoline</td>\n",
       "      <td>ACURA</td>\n",
       "      <td>Light</td>\n",
       "      <td>63</td>\n",
       "    </tr>\n",
       "    <tr>\n",
       "      <th>477</th>\n",
       "      <td>1/1/2020</td>\n",
       "      <td>94114</td>\n",
       "      <td>2007</td>\n",
       "      <td>Gasoline</td>\n",
       "      <td>ACURA</td>\n",
       "      <td>Light</td>\n",
       "      <td>16</td>\n",
       "    </tr>\n",
       "  </tbody>\n",
       "</table>\n",
       "</div>"
      ],
      "text/plain": [
       "         Date Zip Code Model Year      Fuel   Make   Duty  Vehicles\n",
       "473  1/1/2020    94107       2007  Gasoline  ACURA  Light        16\n",
       "474  1/1/2020    94109       2007  Gasoline  ACURA  Light        20\n",
       "475  1/1/2020    94110       2007  Gasoline  ACURA  Light        29\n",
       "476  1/1/2020    94112       2007  Gasoline  ACURA  Light        63\n",
       "477  1/1/2020    94114       2007  Gasoline  ACURA  Light        16"
      ]
     },
     "execution_count": 130,
     "metadata": {},
     "output_type": "execute_result"
    }
   ],
   "source": [
    "df1.head()"
   ]
  },
  {
   "cell_type": "code",
   "execution_count": 131,
   "metadata": {},
   "outputs": [
    {
     "data": {
      "text/plain": [
       "(8695, 7)"
      ]
     },
     "execution_count": 131,
     "metadata": {},
     "output_type": "execute_result"
    }
   ],
   "source": [
    "df1.shape"
   ]
  },
  {
   "cell_type": "markdown",
   "metadata": {},
   "source": [
    "> I'll now create a dictionary in order to map zip codes in my new dataframe to neighborhood names."
   ]
  },
  {
   "cell_type": "code",
   "execution_count": 132,
   "metadata": {},
   "outputs": [
    {
     "data": {
      "text/plain": [
       "{'94102': 'Hayes Valley/Tenderloin/North of Market',\n",
       " '94103': 'South of Market',\n",
       " '94107': 'Potrero Hill',\n",
       " '94108': 'Chinatown',\n",
       " '94109': 'Polk/Russian Hill (Nob Hill)',\n",
       " '94110': 'Inner Mission/Bernal Heights',\n",
       " '94112': 'Ingelside-Excelsior/Crocker-Amazon',\n",
       " '94114': 'Castro/Noe Valley',\n",
       " '94115': 'Western Addition/Japantown',\n",
       " '94116': 'Parkside/Forest Hill',\n",
       " '94117': 'Haight-Ashbury',\n",
       " '94118': 'Inner Richmond',\n",
       " '94121': 'Outer Richmond',\n",
       " '94122': 'Sunset',\n",
       " '94123': 'Marina',\n",
       " '94124': 'Bayview-Hunters Point',\n",
       " '94127': 'St. Francis Wood/Miraloma/West Portal',\n",
       " '94131': 'Twin Peaks-Glen Park',\n",
       " '94132': 'Lake Merced',\n",
       " '94133': 'North Beach/Chinatown',\n",
       " '94134': 'Visitacion Valley/Sunnydale'}"
      ]
     },
     "execution_count": 132,
     "metadata": {},
     "output_type": "execute_result"
    }
   ],
   "source": [
    "zip_dict = dict(zip(zips['Zip Code'], zips['Neighborhood']))\n",
    "zip_dict"
   ]
  },
  {
   "cell_type": "markdown",
   "metadata": {},
   "source": [
    "### D. Create New Dataframe"
   ]
  },
  {
   "cell_type": "code",
   "execution_count": 137,
   "metadata": {},
   "outputs": [
    {
     "data": {
      "text/html": [
       "<div>\n",
       "<style scoped>\n",
       "    .dataframe tbody tr th:only-of-type {\n",
       "        vertical-align: middle;\n",
       "    }\n",
       "\n",
       "    .dataframe tbody tr th {\n",
       "        vertical-align: top;\n",
       "    }\n",
       "\n",
       "    .dataframe thead th {\n",
       "        text-align: right;\n",
       "    }\n",
       "</style>\n",
       "<table border=\"1\" class=\"dataframe\">\n",
       "  <thead>\n",
       "    <tr style=\"text-align: right;\">\n",
       "      <th></th>\n",
       "      <th>Date</th>\n",
       "      <th>Zip Code</th>\n",
       "      <th>Model Year</th>\n",
       "      <th>Fuel</th>\n",
       "      <th>Make</th>\n",
       "      <th>Duty</th>\n",
       "      <th>Vehicles</th>\n",
       "      <th>Neighborhood</th>\n",
       "    </tr>\n",
       "  </thead>\n",
       "  <tbody>\n",
       "    <tr>\n",
       "      <th>473</th>\n",
       "      <td>1/1/2020</td>\n",
       "      <td>94107</td>\n",
       "      <td>2007</td>\n",
       "      <td>Gasoline</td>\n",
       "      <td>ACURA</td>\n",
       "      <td>Light</td>\n",
       "      <td>16</td>\n",
       "      <td>Potrero Hill</td>\n",
       "    </tr>\n",
       "    <tr>\n",
       "      <th>474</th>\n",
       "      <td>1/1/2020</td>\n",
       "      <td>94109</td>\n",
       "      <td>2007</td>\n",
       "      <td>Gasoline</td>\n",
       "      <td>ACURA</td>\n",
       "      <td>Light</td>\n",
       "      <td>20</td>\n",
       "      <td>Polk/Russian Hill (Nob Hill)</td>\n",
       "    </tr>\n",
       "    <tr>\n",
       "      <th>475</th>\n",
       "      <td>1/1/2020</td>\n",
       "      <td>94110</td>\n",
       "      <td>2007</td>\n",
       "      <td>Gasoline</td>\n",
       "      <td>ACURA</td>\n",
       "      <td>Light</td>\n",
       "      <td>29</td>\n",
       "      <td>Inner Mission/Bernal Heights</td>\n",
       "    </tr>\n",
       "    <tr>\n",
       "      <th>476</th>\n",
       "      <td>1/1/2020</td>\n",
       "      <td>94112</td>\n",
       "      <td>2007</td>\n",
       "      <td>Gasoline</td>\n",
       "      <td>ACURA</td>\n",
       "      <td>Light</td>\n",
       "      <td>63</td>\n",
       "      <td>Ingelside-Excelsior/Crocker-Amazon</td>\n",
       "    </tr>\n",
       "    <tr>\n",
       "      <th>477</th>\n",
       "      <td>1/1/2020</td>\n",
       "      <td>94114</td>\n",
       "      <td>2007</td>\n",
       "      <td>Gasoline</td>\n",
       "      <td>ACURA</td>\n",
       "      <td>Light</td>\n",
       "      <td>16</td>\n",
       "      <td>Castro/Noe Valley</td>\n",
       "    </tr>\n",
       "  </tbody>\n",
       "</table>\n",
       "</div>"
      ],
      "text/plain": [
       "         Date Zip Code Model Year      Fuel   Make   Duty  Vehicles  \\\n",
       "473  1/1/2020    94107       2007  Gasoline  ACURA  Light        16   \n",
       "474  1/1/2020    94109       2007  Gasoline  ACURA  Light        20   \n",
       "475  1/1/2020    94110       2007  Gasoline  ACURA  Light        29   \n",
       "476  1/1/2020    94112       2007  Gasoline  ACURA  Light        63   \n",
       "477  1/1/2020    94114       2007  Gasoline  ACURA  Light        16   \n",
       "\n",
       "                           Neighborhood  \n",
       "473                        Potrero Hill  \n",
       "474        Polk/Russian Hill (Nob Hill)  \n",
       "475        Inner Mission/Bernal Heights  \n",
       "476  Ingelside-Excelsior/Crocker-Amazon  \n",
       "477                   Castro/Noe Valley  "
      ]
     },
     "execution_count": 137,
     "metadata": {},
     "output_type": "execute_result"
    }
   ],
   "source": [
    "df1['Neighborhood'] = df1['Zip Code'].map(zip_dict)\n",
    "df1.head()"
   ]
  },
  {
   "cell_type": "code",
   "execution_count": 138,
   "metadata": {},
   "outputs": [
    {
     "data": {
      "text/html": [
       "<div>\n",
       "<style scoped>\n",
       "    .dataframe tbody tr th:only-of-type {\n",
       "        vertical-align: middle;\n",
       "    }\n",
       "\n",
       "    .dataframe tbody tr th {\n",
       "        vertical-align: top;\n",
       "    }\n",
       "\n",
       "    .dataframe thead th {\n",
       "        text-align: right;\n",
       "    }\n",
       "</style>\n",
       "<table border=\"1\" class=\"dataframe\">\n",
       "  <thead>\n",
       "    <tr style=\"text-align: right;\">\n",
       "      <th></th>\n",
       "      <th>Date</th>\n",
       "      <th>Zip Code</th>\n",
       "      <th>Model Year</th>\n",
       "      <th>Fuel</th>\n",
       "      <th>Make</th>\n",
       "      <th>Duty</th>\n",
       "      <th>Vehicles</th>\n",
       "      <th>Neighborhood</th>\n",
       "    </tr>\n",
       "  </thead>\n",
       "  <tbody>\n",
       "    <tr>\n",
       "      <th>602045</th>\n",
       "      <td>1/1/2020</td>\n",
       "      <td>94116</td>\n",
       "      <td>Unk</td>\n",
       "      <td>Gasoline</td>\n",
       "      <td>OTHER/UNK</td>\n",
       "      <td>Light</td>\n",
       "      <td>1</td>\n",
       "      <td>Parkside/Forest Hill</td>\n",
       "    </tr>\n",
       "    <tr>\n",
       "      <th>602046</th>\n",
       "      <td>1/1/2020</td>\n",
       "      <td>94118</td>\n",
       "      <td>Unk</td>\n",
       "      <td>Gasoline</td>\n",
       "      <td>OTHER/UNK</td>\n",
       "      <td>Light</td>\n",
       "      <td>1</td>\n",
       "      <td>Inner Richmond</td>\n",
       "    </tr>\n",
       "    <tr>\n",
       "      <th>602047</th>\n",
       "      <td>1/1/2020</td>\n",
       "      <td>94122</td>\n",
       "      <td>Unk</td>\n",
       "      <td>Gasoline</td>\n",
       "      <td>OTHER/UNK</td>\n",
       "      <td>Light</td>\n",
       "      <td>2</td>\n",
       "      <td>Sunset</td>\n",
       "    </tr>\n",
       "    <tr>\n",
       "      <th>602048</th>\n",
       "      <td>1/1/2020</td>\n",
       "      <td>94123</td>\n",
       "      <td>Unk</td>\n",
       "      <td>Gasoline</td>\n",
       "      <td>OTHER/UNK</td>\n",
       "      <td>Light</td>\n",
       "      <td>1</td>\n",
       "      <td>Marina</td>\n",
       "    </tr>\n",
       "    <tr>\n",
       "      <th>602049</th>\n",
       "      <td>1/1/2020</td>\n",
       "      <td>94127</td>\n",
       "      <td>Unk</td>\n",
       "      <td>Gasoline</td>\n",
       "      <td>OTHER/UNK</td>\n",
       "      <td>Light</td>\n",
       "      <td>1</td>\n",
       "      <td>St. Francis Wood/Miraloma/West Portal</td>\n",
       "    </tr>\n",
       "  </tbody>\n",
       "</table>\n",
       "</div>"
      ],
      "text/plain": [
       "            Date Zip Code Model Year      Fuel       Make   Duty  Vehicles  \\\n",
       "602045  1/1/2020    94116        Unk  Gasoline  OTHER/UNK  Light         1   \n",
       "602046  1/1/2020    94118        Unk  Gasoline  OTHER/UNK  Light         1   \n",
       "602047  1/1/2020    94122        Unk  Gasoline  OTHER/UNK  Light         2   \n",
       "602048  1/1/2020    94123        Unk  Gasoline  OTHER/UNK  Light         1   \n",
       "602049  1/1/2020    94127        Unk  Gasoline  OTHER/UNK  Light         1   \n",
       "\n",
       "                                 Neighborhood  \n",
       "602045                   Parkside/Forest Hill  \n",
       "602046                         Inner Richmond  \n",
       "602047                                 Sunset  \n",
       "602048                                 Marina  \n",
       "602049  St. Francis Wood/Miraloma/West Portal  "
      ]
     },
     "execution_count": 138,
     "metadata": {},
     "output_type": "execute_result"
    }
   ],
   "source": [
    "df1.tail()"
   ]
  },
  {
   "cell_type": "markdown",
   "metadata": {},
   "source": [
    "## 2. Exploratory Data Analysis"
   ]
  },
  {
   "cell_type": "markdown",
   "metadata": {},
   "source": [
    "While my main question is which neighorhood has the highest percentage of electric cars per capita, other questions are:\n",
    "* What is the most popular car make in San Francisco?\n",
    "* What are the overall counts of electric and gasoline vehicles in SF?\n",
    "* Which neighborhood has the most number of vehicles?\n",
    "   "
   ]
  },
  {
   "cell_type": "markdown",
   "metadata": {},
   "source": [
    "### i. Car Make"
   ]
  },
  {
   "cell_type": "code",
   "execution_count": 195,
   "metadata": {},
   "outputs": [
    {
     "data": {
      "text/html": [
       "<div>\n",
       "<style scoped>\n",
       "    .dataframe tbody tr th:only-of-type {\n",
       "        vertical-align: middle;\n",
       "    }\n",
       "\n",
       "    .dataframe tbody tr th {\n",
       "        vertical-align: top;\n",
       "    }\n",
       "\n",
       "    .dataframe thead tr th {\n",
       "        text-align: left;\n",
       "    }\n",
       "\n",
       "    .dataframe thead tr:last-of-type th {\n",
       "        text-align: right;\n",
       "    }\n",
       "</style>\n",
       "<table border=\"1\" class=\"dataframe\">\n",
       "  <thead>\n",
       "    <tr>\n",
       "      <th></th>\n",
       "      <th>Vehicles</th>\n",
       "    </tr>\n",
       "    <tr>\n",
       "      <th></th>\n",
       "      <th>sum</th>\n",
       "    </tr>\n",
       "    <tr>\n",
       "      <th>Make</th>\n",
       "      <th></th>\n",
       "    </tr>\n",
       "  </thead>\n",
       "  <tbody>\n",
       "    <tr>\n",
       "      <th>ACURA</th>\n",
       "      <td>8174</td>\n",
       "    </tr>\n",
       "    <tr>\n",
       "      <th>ALFA ROMEO</th>\n",
       "      <td>24</td>\n",
       "    </tr>\n",
       "    <tr>\n",
       "      <th>AUDI</th>\n",
       "      <td>11607</td>\n",
       "    </tr>\n",
       "    <tr>\n",
       "      <th>AUTOCAR</th>\n",
       "      <td>202</td>\n",
       "    </tr>\n",
       "    <tr>\n",
       "      <th>BMW</th>\n",
       "      <td>22261</td>\n",
       "    </tr>\n",
       "  </tbody>\n",
       "</table>\n",
       "</div>"
      ],
      "text/plain": [
       "           Vehicles\n",
       "                sum\n",
       "Make               \n",
       "ACURA          8174\n",
       "ALFA ROMEO       24\n",
       "AUDI          11607\n",
       "AUTOCAR         202\n",
       "BMW           22261"
      ]
     },
     "execution_count": 195,
     "metadata": {},
     "output_type": "execute_result"
    }
   ],
   "source": [
    "makes = df1.groupby('Make').agg({'Vehicles': ['sum']})\n",
    "makes.head()"
   ]
  },
  {
   "cell_type": "code",
   "execution_count": 196,
   "metadata": {},
   "outputs": [
    {
     "data": {
      "text/html": [
       "<div>\n",
       "<style scoped>\n",
       "    .dataframe tbody tr th:only-of-type {\n",
       "        vertical-align: middle;\n",
       "    }\n",
       "\n",
       "    .dataframe tbody tr th {\n",
       "        vertical-align: top;\n",
       "    }\n",
       "\n",
       "    .dataframe thead th {\n",
       "        text-align: right;\n",
       "    }\n",
       "</style>\n",
       "<table border=\"1\" class=\"dataframe\">\n",
       "  <thead>\n",
       "    <tr style=\"text-align: right;\">\n",
       "      <th></th>\n",
       "      <th>Make</th>\n",
       "      <th>Total</th>\n",
       "    </tr>\n",
       "  </thead>\n",
       "  <tbody>\n",
       "    <tr>\n",
       "      <th>0</th>\n",
       "      <td>TOYOTA</td>\n",
       "      <td>92923</td>\n",
       "    </tr>\n",
       "    <tr>\n",
       "      <th>1</th>\n",
       "      <td>HONDA</td>\n",
       "      <td>54560</td>\n",
       "    </tr>\n",
       "    <tr>\n",
       "      <th>2</th>\n",
       "      <td>OTHER/UNK</td>\n",
       "      <td>39015</td>\n",
       "    </tr>\n",
       "    <tr>\n",
       "      <th>3</th>\n",
       "      <td>FORD</td>\n",
       "      <td>26661</td>\n",
       "    </tr>\n",
       "    <tr>\n",
       "      <th>4</th>\n",
       "      <td>BMW</td>\n",
       "      <td>22261</td>\n",
       "    </tr>\n",
       "    <tr>\n",
       "      <th>...</th>\n",
       "      <td>...</td>\n",
       "      <td>...</td>\n",
       "    </tr>\n",
       "    <tr>\n",
       "      <th>61</th>\n",
       "      <td>MACK</td>\n",
       "      <td>23</td>\n",
       "    </tr>\n",
       "    <tr>\n",
       "      <th>62</th>\n",
       "      <td>STERLING</td>\n",
       "      <td>17</td>\n",
       "    </tr>\n",
       "    <tr>\n",
       "      <th>63</th>\n",
       "      <td>LODAL</td>\n",
       "      <td>15</td>\n",
       "    </tr>\n",
       "    <tr>\n",
       "      <th>64</th>\n",
       "      <td>KENWORTH</td>\n",
       "      <td>12</td>\n",
       "    </tr>\n",
       "    <tr>\n",
       "      <th>65</th>\n",
       "      <td>MITSUBISHI FUSO</td>\n",
       "      <td>11</td>\n",
       "    </tr>\n",
       "  </tbody>\n",
       "</table>\n",
       "<p>66 rows × 2 columns</p>\n",
       "</div>"
      ],
      "text/plain": [
       "               Make  Total\n",
       "0            TOYOTA  92923\n",
       "1             HONDA  54560\n",
       "2         OTHER/UNK  39015\n",
       "3              FORD  26661\n",
       "4               BMW  22261\n",
       "..              ...    ...\n",
       "61             MACK     23\n",
       "62         STERLING     17\n",
       "63            LODAL     15\n",
       "64         KENWORTH     12\n",
       "65  MITSUBISHI FUSO     11\n",
       "\n",
       "[66 rows x 2 columns]"
      ]
     },
     "execution_count": 196,
     "metadata": {},
     "output_type": "execute_result"
    }
   ],
   "source": [
    "# rename columns\n",
    "makes.columns = ['Total']\n",
    "\n",
    "# reset index to get grouped columns back\n",
    "makes = makes.reset_index()\n",
    "\n",
    "#Sort and Reset Index\n",
    "makes.sort_values(by=['Total'], ascending=False).reset_index(drop=True)"
   ]
  },
  {
   "cell_type": "code",
   "execution_count": 207,
   "metadata": {},
   "outputs": [
    {
     "data": {
      "image/png": "[encoded data removed]",
      "text/plain": [
       "<Figure size 1440x1440 with 1 Axes>"
      ]
     },
     "metadata": {},
     "output_type": "display_data"
    }
   ],
   "source": [
    "plt.figure(figsize=(20,20))\n",
    "sns.set(font_scale=1.2)\n",
    "sns.barplot(x=\"Total\", y=\"Make\", data=makes.sort_values(\"Total\", ascending=False))\n",
    "plt.show();"
   ]
  },
  {
   "cell_type": "markdown",
   "metadata": {},
   "source": [
    "> Toyota is the clear winner amongst San Franciscans, with Honda in second place."
   ]
  },
  {
   "cell_type": "markdown",
   "metadata": {},
   "source": [
    "### ii. Vehicles by Fuel Type"
   ]
  },
  {
   "cell_type": "code",
   "execution_count": 218,
   "metadata": {},
   "outputs": [
    {
     "data": {
      "text/html": [
       "<div>\n",
       "<style scoped>\n",
       "    .dataframe tbody tr th:only-of-type {\n",
       "        vertical-align: middle;\n",
       "    }\n",
       "\n",
       "    .dataframe tbody tr th {\n",
       "        vertical-align: top;\n",
       "    }\n",
       "\n",
       "    .dataframe thead tr th {\n",
       "        text-align: left;\n",
       "    }\n",
       "\n",
       "    .dataframe thead tr:last-of-type th {\n",
       "        text-align: right;\n",
       "    }\n",
       "</style>\n",
       "<table border=\"1\" class=\"dataframe\">\n",
       "  <thead>\n",
       "    <tr>\n",
       "      <th></th>\n",
       "      <th>Vehicles</th>\n",
       "    </tr>\n",
       "    <tr>\n",
       "      <th></th>\n",
       "      <th>sum</th>\n",
       "    </tr>\n",
       "    <tr>\n",
       "      <th>Fuel</th>\n",
       "      <th></th>\n",
       "    </tr>\n",
       "  </thead>\n",
       "  <tbody>\n",
       "    <tr>\n",
       "      <th>Battery Electric</th>\n",
       "      <td>8269</td>\n",
       "    </tr>\n",
       "    <tr>\n",
       "      <th>Diesel and Diesel Hybrid</th>\n",
       "      <td>9246</td>\n",
       "    </tr>\n",
       "    <tr>\n",
       "      <th>Flex-Fuel</th>\n",
       "      <td>8551</td>\n",
       "    </tr>\n",
       "    <tr>\n",
       "      <th>Gasoline</th>\n",
       "      <td>358821</td>\n",
       "    </tr>\n",
       "    <tr>\n",
       "      <th>Hybrid Gasoline</th>\n",
       "      <td>32903</td>\n",
       "    </tr>\n",
       "  </tbody>\n",
       "</table>\n",
       "</div>"
      ],
      "text/plain": [
       "                         Vehicles\n",
       "                              sum\n",
       "Fuel                             \n",
       "Battery Electric             8269\n",
       "Diesel and Diesel Hybrid     9246\n",
       "Flex-Fuel                    8551\n",
       "Gasoline                   358821\n",
       "Hybrid Gasoline             32903"
      ]
     },
     "execution_count": 218,
     "metadata": {},
     "output_type": "execute_result"
    }
   ],
   "source": [
    "fuel = df1.groupby('Fuel').agg({'Vehicles': ['sum']})\n",
    "fuel.head()"
   ]
  },
  {
   "cell_type": "code",
   "execution_count": 209,
   "metadata": {},
   "outputs": [
    {
     "data": {
      "text/html": [
       "<div>\n",
       "<style scoped>\n",
       "    .dataframe tbody tr th:only-of-type {\n",
       "        vertical-align: middle;\n",
       "    }\n",
       "\n",
       "    .dataframe tbody tr th {\n",
       "        vertical-align: top;\n",
       "    }\n",
       "\n",
       "    .dataframe thead th {\n",
       "        text-align: right;\n",
       "    }\n",
       "</style>\n",
       "<table border=\"1\" class=\"dataframe\">\n",
       "  <thead>\n",
       "    <tr style=\"text-align: right;\">\n",
       "      <th></th>\n",
       "      <th>Fuel</th>\n",
       "      <th>Total</th>\n",
       "    </tr>\n",
       "  </thead>\n",
       "  <tbody>\n",
       "    <tr>\n",
       "      <th>0</th>\n",
       "      <td>Gasoline</td>\n",
       "      <td>358821</td>\n",
       "    </tr>\n",
       "    <tr>\n",
       "      <th>1</th>\n",
       "      <td>Hybrid Gasoline</td>\n",
       "      <td>32903</td>\n",
       "    </tr>\n",
       "    <tr>\n",
       "      <th>2</th>\n",
       "      <td>Diesel and Diesel Hybrid</td>\n",
       "      <td>9246</td>\n",
       "    </tr>\n",
       "    <tr>\n",
       "      <th>3</th>\n",
       "      <td>Flex-Fuel</td>\n",
       "      <td>8551</td>\n",
       "    </tr>\n",
       "    <tr>\n",
       "      <th>4</th>\n",
       "      <td>Battery Electric</td>\n",
       "      <td>8269</td>\n",
       "    </tr>\n",
       "    <tr>\n",
       "      <th>5</th>\n",
       "      <td>Plug-in Hybrid</td>\n",
       "      <td>4492</td>\n",
       "    </tr>\n",
       "    <tr>\n",
       "      <th>6</th>\n",
       "      <td>Natural Gas</td>\n",
       "      <td>376</td>\n",
       "    </tr>\n",
       "    <tr>\n",
       "      <th>7</th>\n",
       "      <td>Hydrogen Fuel Cell</td>\n",
       "      <td>97</td>\n",
       "    </tr>\n",
       "    <tr>\n",
       "      <th>8</th>\n",
       "      <td>Other</td>\n",
       "      <td>33</td>\n",
       "    </tr>\n",
       "  </tbody>\n",
       "</table>\n",
       "</div>"
      ],
      "text/plain": [
       "                       Fuel   Total\n",
       "0                  Gasoline  358821\n",
       "1           Hybrid Gasoline   32903\n",
       "2  Diesel and Diesel Hybrid    9246\n",
       "3                 Flex-Fuel    8551\n",
       "4          Battery Electric    8269\n",
       "5            Plug-in Hybrid    4492\n",
       "6               Natural Gas     376\n",
       "7        Hydrogen Fuel Cell      97\n",
       "8                     Other      33"
      ]
     },
     "execution_count": 209,
     "metadata": {},
     "output_type": "execute_result"
    }
   ],
   "source": [
    "# rename columns\n",
    "fuel.columns = ['Total']\n",
    "\n",
    "# reset index to get grouped columns back\n",
    "fuel = fuel.reset_index()\n",
    "\n",
    "#Sort and Reset Index\n",
    "fuel.sort_values(by=['Total'], ascending=False).reset_index(drop=True)"
   ]
  },
  {
   "cell_type": "code",
   "execution_count": 211,
   "metadata": {},
   "outputs": [
    {
     "data": {
      "image/png": "[encoded data removed]",
      "text/plain": [
       "<Figure size 1440x1440 with 1 Axes>"
      ]
     },
     "metadata": {},
     "output_type": "display_data"
    }
   ],
   "source": [
    "plt.figure(figsize=(20,20))\n",
    "sns.set(font_scale=1.2)\n",
    "sns.barplot(y=\"Total\", x=\"Fuel\", data=fuel.sort_values(\"Total\", ascending=False))\n",
    "plt.show();"
   ]
  },
  {
   "cell_type": "markdown",
   "metadata": {},
   "source": [
    "> Hybrids and electric vehicles are lagging far behind gasoline vehicles."
   ]
  },
  {
   "cell_type": "markdown",
   "metadata": {},
   "source": [
    "### iii. Vehicles by Neighborhood"
   ]
  },
  {
   "cell_type": "code",
   "execution_count": 212,
   "metadata": {},
   "outputs": [
    {
     "data": {
      "text/html": [
       "<div>\n",
       "<style scoped>\n",
       "    .dataframe tbody tr th:only-of-type {\n",
       "        vertical-align: middle;\n",
       "    }\n",
       "\n",
       "    .dataframe tbody tr th {\n",
       "        vertical-align: top;\n",
       "    }\n",
       "\n",
       "    .dataframe thead tr th {\n",
       "        text-align: left;\n",
       "    }\n",
       "\n",
       "    .dataframe thead tr:last-of-type th {\n",
       "        text-align: right;\n",
       "    }\n",
       "</style>\n",
       "<table border=\"1\" class=\"dataframe\">\n",
       "  <thead>\n",
       "    <tr>\n",
       "      <th></th>\n",
       "      <th>Vehicles</th>\n",
       "    </tr>\n",
       "    <tr>\n",
       "      <th></th>\n",
       "      <th>sum</th>\n",
       "    </tr>\n",
       "    <tr>\n",
       "      <th>Neighborhood</th>\n",
       "      <th></th>\n",
       "    </tr>\n",
       "  </thead>\n",
       "  <tbody>\n",
       "    <tr>\n",
       "      <th>Bayview-Hunters Point</th>\n",
       "      <td>33874</td>\n",
       "    </tr>\n",
       "    <tr>\n",
       "      <th>Castro/Noe Valley</th>\n",
       "      <td>17192</td>\n",
       "    </tr>\n",
       "    <tr>\n",
       "      <th>Chinatown</th>\n",
       "      <td>3423</td>\n",
       "    </tr>\n",
       "    <tr>\n",
       "      <th>Haight-Ashbury</th>\n",
       "      <td>16848</td>\n",
       "    </tr>\n",
       "    <tr>\n",
       "      <th>Hayes Valley/Tenderloin/North of Market</th>\n",
       "      <td>8352</td>\n",
       "    </tr>\n",
       "  </tbody>\n",
       "</table>\n",
       "</div>"
      ],
      "text/plain": [
       "                                        Vehicles\n",
       "                                             sum\n",
       "Neighborhood                                    \n",
       "Bayview-Hunters Point                      33874\n",
       "Castro/Noe Valley                          17192\n",
       "Chinatown                                   3423\n",
       "Haight-Ashbury                             16848\n",
       "Hayes Valley/Tenderloin/North of Market     8352"
      ]
     },
     "execution_count": 212,
     "metadata": {},
     "output_type": "execute_result"
    }
   ],
   "source": [
    "nhood = df1.groupby('Neighborhood').agg({'Vehicles': ['sum']})\n",
    "nhood.head()"
   ]
  },
  {
   "cell_type": "code",
   "execution_count": 213,
   "metadata": {},
   "outputs": [
    {
     "data": {
      "text/html": [
       "<div>\n",
       "<style scoped>\n",
       "    .dataframe tbody tr th:only-of-type {\n",
       "        vertical-align: middle;\n",
       "    }\n",
       "\n",
       "    .dataframe tbody tr th {\n",
       "        vertical-align: top;\n",
       "    }\n",
       "\n",
       "    .dataframe thead th {\n",
       "        text-align: right;\n",
       "    }\n",
       "</style>\n",
       "<table border=\"1\" class=\"dataframe\">\n",
       "  <thead>\n",
       "    <tr style=\"text-align: right;\">\n",
       "      <th></th>\n",
       "      <th>Neighborhood</th>\n",
       "      <th>Total</th>\n",
       "    </tr>\n",
       "  </thead>\n",
       "  <tbody>\n",
       "    <tr>\n",
       "      <th>0</th>\n",
       "      <td>Ingelside-Excelsior/Crocker-Amazon</td>\n",
       "      <td>47062</td>\n",
       "    </tr>\n",
       "    <tr>\n",
       "      <th>1</th>\n",
       "      <td>Bayview-Hunters Point</td>\n",
       "      <td>33874</td>\n",
       "    </tr>\n",
       "    <tr>\n",
       "      <th>2</th>\n",
       "      <td>Sunset</td>\n",
       "      <td>32387</td>\n",
       "    </tr>\n",
       "    <tr>\n",
       "      <th>3</th>\n",
       "      <td>Inner Mission/Bernal Heights</td>\n",
       "      <td>31969</td>\n",
       "    </tr>\n",
       "    <tr>\n",
       "      <th>4</th>\n",
       "      <td>Parkside/Forest Hill</td>\n",
       "      <td>27986</td>\n",
       "    </tr>\n",
       "    <tr>\n",
       "      <th>5</th>\n",
       "      <td>Visitacion Valley/Sunnydale</td>\n",
       "      <td>26188</td>\n",
       "    </tr>\n",
       "    <tr>\n",
       "      <th>6</th>\n",
       "      <td>Outer Richmond</td>\n",
       "      <td>22765</td>\n",
       "    </tr>\n",
       "    <tr>\n",
       "      <th>7</th>\n",
       "      <td>Inner Richmond</td>\n",
       "      <td>20773</td>\n",
       "    </tr>\n",
       "    <tr>\n",
       "      <th>8</th>\n",
       "      <td>Polk/Russian Hill (Nob Hill)</td>\n",
       "      <td>18621</td>\n",
       "    </tr>\n",
       "    <tr>\n",
       "      <th>9</th>\n",
       "      <td>Twin Peaks-Glen Park</td>\n",
       "      <td>17446</td>\n",
       "    </tr>\n",
       "    <tr>\n",
       "      <th>10</th>\n",
       "      <td>Castro/Noe Valley</td>\n",
       "      <td>17192</td>\n",
       "    </tr>\n",
       "    <tr>\n",
       "      <th>11</th>\n",
       "      <td>Haight-Ashbury</td>\n",
       "      <td>16848</td>\n",
       "    </tr>\n",
       "    <tr>\n",
       "      <th>12</th>\n",
       "      <td>Western Addition/Japantown</td>\n",
       "      <td>16231</td>\n",
       "    </tr>\n",
       "    <tr>\n",
       "      <th>13</th>\n",
       "      <td>Potrero Hill</td>\n",
       "      <td>16208</td>\n",
       "    </tr>\n",
       "    <tr>\n",
       "      <th>14</th>\n",
       "      <td>Lake Merced</td>\n",
       "      <td>15158</td>\n",
       "    </tr>\n",
       "    <tr>\n",
       "      <th>15</th>\n",
       "      <td>St. Francis Wood/Miraloma/West Portal</td>\n",
       "      <td>13853</td>\n",
       "    </tr>\n",
       "    <tr>\n",
       "      <th>16</th>\n",
       "      <td>Marina</td>\n",
       "      <td>13703</td>\n",
       "    </tr>\n",
       "    <tr>\n",
       "      <th>17</th>\n",
       "      <td>South of Market</td>\n",
       "      <td>12769</td>\n",
       "    </tr>\n",
       "    <tr>\n",
       "      <th>18</th>\n",
       "      <td>North Beach/Chinatown</td>\n",
       "      <td>9980</td>\n",
       "    </tr>\n",
       "    <tr>\n",
       "      <th>19</th>\n",
       "      <td>Hayes Valley/Tenderloin/North of Market</td>\n",
       "      <td>8352</td>\n",
       "    </tr>\n",
       "    <tr>\n",
       "      <th>20</th>\n",
       "      <td>Chinatown</td>\n",
       "      <td>3423</td>\n",
       "    </tr>\n",
       "  </tbody>\n",
       "</table>\n",
       "</div>"
      ],
      "text/plain": [
       "                               Neighborhood  Total\n",
       "0        Ingelside-Excelsior/Crocker-Amazon  47062\n",
       "1                     Bayview-Hunters Point  33874\n",
       "2                                    Sunset  32387\n",
       "3              Inner Mission/Bernal Heights  31969\n",
       "4                      Parkside/Forest Hill  27986\n",
       "5               Visitacion Valley/Sunnydale  26188\n",
       "6                            Outer Richmond  22765\n",
       "7                            Inner Richmond  20773\n",
       "8              Polk/Russian Hill (Nob Hill)  18621\n",
       "9                      Twin Peaks-Glen Park  17446\n",
       "10                        Castro/Noe Valley  17192\n",
       "11                           Haight-Ashbury  16848\n",
       "12               Western Addition/Japantown  16231\n",
       "13                             Potrero Hill  16208\n",
       "14                              Lake Merced  15158\n",
       "15    St. Francis Wood/Miraloma/West Portal  13853\n",
       "16                                   Marina  13703\n",
       "17                          South of Market  12769\n",
       "18                    North Beach/Chinatown   9980\n",
       "19  Hayes Valley/Tenderloin/North of Market   8352\n",
       "20                                Chinatown   3423"
      ]
     },
     "execution_count": 213,
     "metadata": {},
     "output_type": "execute_result"
    }
   ],
   "source": [
    "# rename columns\n",
    "nhood.columns = ['Total']\n",
    "\n",
    "# reset index to get grouped columns back\n",
    "nhood = nhood.reset_index()\n",
    "\n",
    "#Sort and Reset Index\n",
    "nhood.sort_values(by=['Total'], ascending=False).reset_index(drop=True)"
   ]
  },
  {
   "cell_type": "code",
   "execution_count": 217,
   "metadata": {},
   "outputs": [
    {
     "data": {
      "image/png": "[encoded data removed]",
      "text/plain": [
       "<Figure size 1440x1440 with 1 Axes>"
      ]
     },
     "metadata": {},
     "output_type": "display_data"
    }
   ],
   "source": [
    "plt.figure(figsize=(20,20))\n",
    "sns.set(font_scale=1.4)\n",
    "sns.barplot(x=\"Total\", y=\"Neighborhood\", data=nhood.sort_values(\"Total\", ascending=False))\n",
    "plt.show();"
   ]
  },
  {
   "cell_type": "markdown",
   "metadata": {},
   "source": [
    "> Ingleside-Excelsior and Bayview/Hunters Point have the most vehicles: These neighborhoods are less accessible by public transit, and tend to be lower income.\n",
    "\n",
    "> Chinatown has the lowest number of vehicles."
   ]
  },
  {
   "cell_type": "markdown",
   "metadata": {},
   "source": [
    "### iv. Electric vs Gas Vehicles by Neighborhood"
   ]
  },
  {
   "cell_type": "markdown",
   "metadata": {},
   "source": [
    "Finally! I get to answer my initial question: Which SF neighborhood has the most electric vehicles?"
   ]
  },
  {
   "cell_type": "code",
   "execution_count": null,
   "metadata": {},
   "outputs": [],
   "source": []
  }
 ],
 "metadata": {
  "kernelspec": {
   "display_name": "Python 3",
   "language": "python",
   "name": "python3"
  },
  "language_info": {
   "codemirror_mode": {
    "name": "ipython",
    "version": 3
   },
   "file_extension": ".py",
   "mimetype": "text/x-python",
   "name": "python",
   "nbconvert_exporter": "python",
   "pygments_lexer": "ipython3",
   "version": "3.7.6"
  }
 },
 "nbformat": 4,
 "nbformat_minor": 4
}
